{
 "cells": [
  {
   "cell_type": "code",
   "execution_count": 1,
   "id": "b24bab44",
   "metadata": {},
   "outputs": [],
   "source": [
    "import numpy as np\n",
    "import pandas as pd\n",
    "import matplotlib.pylab as plt\n",
    "import seaborn as sns\n",
    "\n",
    "\n",
    "import statsplot as stp\n",
    "\n",
    "import anndata"
   ]
  },
  {
   "cell_type": "markdown",
   "id": "b5f1ad5c",
   "metadata": {},
   "source": [
    "# Simple example\n",
    "\n",
    "We create first some dummy data for weights for three treatments\n"
   ]
  },
  {
   "cell_type": "code",
   "execution_count": 2,
   "id": "98b56061",
   "metadata": {},
   "outputs": [],
   "source": [
    "\n",
    "N= 8\n",
    "group_names = [\"Control\",\"Treatment 1\", \"Treatment 2\"]\n",
    "\n",
    "groups = pd.Series( np.repeat(group_names,N), \n",
    "index = [ f\"Participant_{i+1}\" for i in range(N*len(group_names))],\n",
    "name=\"Group\"\n",
    "                )\n",
    "weights = pd.Series(data= np.random.randn(groups.shape[0], 1)[:,0] *5 +15, \n",
    "index = groups.index, name=\"Weight\" )\n",
    "# add difference between groups\n",
    "weights += groups.map(dict(zip(group_names,[0,0.1,10]))).values\n"
   ]
  },
  {
   "cell_type": "markdown",
   "id": "17d884ef",
   "metadata": {},
   "source": [
    "We can plot this data elegantly with seaborn"
   ]
  },
  {
   "cell_type": "code",
   "execution_count": 3,
   "id": "668f3083",
   "metadata": {},
   "outputs": [
    {
     "data": {
      "image/png": "[encoded data removed]",
      "text/plain": [
       "<Figure size 432x288 with 1 Axes>"
      ]
     },
     "metadata": {
      "needs_background": "light"
     },
     "output_type": "display_data"
    }
   ],
   "source": [
    "ax  = sns.boxplot(y= weights, x= groups)"
   ]
  },
  {
   "cell_type": "markdown",
   "id": "f254c452",
   "metadata": {},
   "source": [
    "If you want to know and plot significance on the plot we can simply use satatsplot with almost the same API"
   ]
  },
  {
   "cell_type": "code",
   "execution_count": 4,
   "id": "b17c3b88",
   "metadata": {},
   "outputs": [
    {
     "data": {
      "text/plain": [
       "Treatment 1_vs_Control        0.587966\n",
       "Treatment 2_vs_Control        0.005864\n",
       "Treatment 2_vs_Treatment 1    0.001300\n",
       "Name: Weight, dtype: float64"
      ]
     },
     "execution_count": 4,
     "metadata": {},
     "output_type": "execute_result"
    },
    {
     "data": {
      "image/png": "[encoded data removed]",
      "text/plain": [
       "<Figure size 432x288 with 1 Axes>"
      ]
     },
     "metadata": {
      "needs_background": "light"
     },
     "output_type": "display_data"
    }
   ],
   "source": [
    "\n",
    "ax, stats= stp.statsplot(variable = weights,test_variable= groups)\n",
    "\n",
    "stats"
   ]
  },
  {
   "cell_type": "markdown",
   "id": "782d549e",
   "metadata": {},
   "source": [
    "If you want to show the value instead of the start you can modify the sig labels."
   ]
  },
  {
   "cell_type": "code",
   "execution_count": 5,
   "id": "b80d3874",
   "metadata": {},
   "outputs": [
    {
     "data": {
      "image/png": "[encoded data removed]",
      "text/plain": [
       "<Figure size 432x288 with 1 Axes>"
      ]
     },
     "metadata": {
      "needs_background": "light"
     },
     "output_type": "display_data"
    }
   ],
   "source": [
    "ax, stats= stp.statsplot(variable = weights,test_variable= groups, labelkws= {'show_ns': True, 'use_stars': False})"
   ]
  },
  {
   "cell_type": "markdown",
   "id": "203b1d48",
   "metadata": {},
   "source": [
    "# Example with nested groups"
   ]
  },
  {
   "cell_type": "code",
   "execution_count": 6,
   "id": "da475e1c",
   "metadata": {},
   "outputs": [
    {
     "data": {
      "text/html": [
       "<div>\n",
       "<style scoped>\n",
       "    .dataframe tbody tr th:only-of-type {\n",
       "        vertical-align: middle;\n",
       "    }\n",
       "\n",
       "    .dataframe tbody tr th {\n",
       "        vertical-align: top;\n",
       "    }\n",
       "\n",
       "    .dataframe thead th {\n",
       "        text-align: right;\n",
       "    }\n",
       "</style>\n",
       "<table border=\"1\" class=\"dataframe\">\n",
       "  <thead>\n",
       "    <tr style=\"text-align: right;\">\n",
       "      <th></th>\n",
       "      <th>Participant</th>\n",
       "      <th>Group</th>\n",
       "      <th>Timepoint</th>\n",
       "      <th>Measurement</th>\n",
       "    </tr>\n",
       "  </thead>\n",
       "  <tbody>\n",
       "    <tr>\n",
       "      <th>Sample_0</th>\n",
       "      <td>Participant_1</td>\n",
       "      <td>Control</td>\n",
       "      <td>before</td>\n",
       "      <td>0.591204</td>\n",
       "    </tr>\n",
       "    <tr>\n",
       "      <th>Sample_1</th>\n",
       "      <td>Participant_2</td>\n",
       "      <td>Control</td>\n",
       "      <td>before</td>\n",
       "      <td>6.813326</td>\n",
       "    </tr>\n",
       "    <tr>\n",
       "      <th>Sample_2</th>\n",
       "      <td>Participant_3</td>\n",
       "      <td>Control</td>\n",
       "      <td>before</td>\n",
       "      <td>12.559294</td>\n",
       "    </tr>\n",
       "    <tr>\n",
       "      <th>Sample_3</th>\n",
       "      <td>Participant_4</td>\n",
       "      <td>Control</td>\n",
       "      <td>before</td>\n",
       "      <td>7.547212</td>\n",
       "    </tr>\n",
       "    <tr>\n",
       "      <th>Sample_4</th>\n",
       "      <td>Participant_5</td>\n",
       "      <td>Control</td>\n",
       "      <td>before</td>\n",
       "      <td>8.274058</td>\n",
       "    </tr>\n",
       "  </tbody>\n",
       "</table>\n",
       "</div>"
      ],
      "text/plain": [
       "            Participant    Group Timepoint  Measurement\n",
       "Sample_0  Participant_1  Control    before     0.591204\n",
       "Sample_1  Participant_2  Control    before     6.813326\n",
       "Sample_2  Participant_3  Control    before    12.559294\n",
       "Sample_3  Participant_4  Control    before     7.547212\n",
       "Sample_4  Participant_5  Control    before     8.274058"
      ]
     },
     "execution_count": 6,
     "metadata": {},
     "output_type": "execute_result"
    }
   ],
   "source": [
    "# create metadata from above groups with before treatment and after treatment time point\n",
    "\n",
    "df= pd.DataFrame(groups).reset_index().rename(columns={\"index\":\"Participant\"})\n",
    "\n",
    "df_before= df.copy()\n",
    "df_before[\"Timepoint\"]= \"before\"\n",
    "df_before[\"Measurement\"] = np.random.randn(df.shape[0], 1)[:,0] *5 +12\n",
    "\n",
    "df_after= df.copy()\n",
    "df_after[\"Timepoint\"]= \"after\"\n",
    "df_after[\"Measurement\"] = weights.values\n",
    "\n",
    "df= pd.concat([df_before,df_after],ignore_index=True)\n",
    "del df_before, df_after\n",
    "\n",
    "df.index= \"Sample_\" + df.index.astype(str)\n",
    "\n",
    "df.head()\n"
   ]
  },
  {
   "cell_type": "code",
   "execution_count": 7,
   "id": "d1cdeca6",
   "metadata": {},
   "outputs": [
    {
     "data": {
      "image/png": "[encoded data removed]",
      "text/plain": [
       "<Figure size 432x288 with 1 Axes>"
      ]
     },
     "metadata": {
      "needs_background": "light"
     },
     "output_type": "display_data"
    }
   ],
   "source": [
    "ax = sns.boxplot(data= df, y= \"Measurement\", hue= \"Timepoint\", x= \"Group\", hue_order= [\"before\",\"after\"])\n"
   ]
  },
  {
   "cell_type": "code",
   "execution_count": 8,
   "id": "1a87a451",
   "metadata": {},
   "outputs": [
    {
     "data": {
      "text/plain": [
       "Control      before_vs_after    0.011874\n",
       "Treatment 1  before_vs_after    0.328625\n",
       "Treatment 2  before_vs_after    0.000209\n",
       "Name: Measurement, dtype: object"
      ]
     },
     "execution_count": 8,
     "metadata": {},
     "output_type": "execute_result"
    },
    {
     "data": {
      "image/png": "[encoded data removed]",
      "text/plain": [
       "<Figure size 432x288 with 1 Axes>"
      ]
     },
     "metadata": {
      "needs_background": "light"
     },
     "output_type": "display_data"
    }
   ],
   "source": [
    "# and here the statsplot version of it.\n",
    "# see we use paired ttest as we compate the same patients before and after treatment\n",
    "\n",
    "ax, stats= stp.statsplot(variable = df.Measurement,test_variable= df.Timepoint, grouping_variable= df.Group,\n",
    "test=\"ttest_rel\",\n",
    "order_test= [\"before\",\"after\"]\n",
    ")\n",
    "stats"
   ]
  },
  {
   "cell_type": "markdown",
   "id": "879d45cc",
   "metadata": {},
   "source": [
    "# Example with many variables\n",
    "\n",
    "Based on microbiome profiling"
   ]
  },
  {
   "cell_type": "code",
   "execution_count": 9,
   "id": "556680ad",
   "metadata": {},
   "outputs": [],
   "source": [
    "# Functions to parse taxonomy\n",
    "import pandas as pd\n",
    "import numpy as np\n",
    "import warnings\n",
    "\n",
    "TAXONMIC_LEVELS = [\"Domain\", \"phylum\", \"class\", \"order\", \"family\", \"genus\", \"species\"]\n",
    "\n",
    "\n",
    "def tax2table(Taxonomy_Series, split_character=\";\", remove_prefix=False):\n",
    "    \"\"\"\n",
    "    Transforms (green_genes) taxonomy to a table\n",
    "    Expect the following input format:\n",
    "    d__Bacteria;p__Bacteroidota;c__Bacteroidia;f__\n",
    "    Replaces empty values and can remove prefix 'c__'\n",
    "    \"\"\"\n",
    "\n",
    "    # drop missing values\n",
    "    if Taxonomy_Series.isnull().any():\n",
    "        warnings.warn(\n",
    "            \"Some samples have no taxonomy asigned. Samples:\\n\"\n",
    "            + \", \".join(Taxonomy_Series.index[Taxonomy_Series.isnull()].astype(str))\n",
    "        )\n",
    "\n",
    "    Tax = Taxonomy_Series.dropna().astype(str).str.split(split_character, expand=True)\n",
    "    # Add headers as long as we have columns\n",
    "    Tax.columns = TAXONMIC_LEVELS[: len(Tax.columns)]\n",
    "\n",
    "    if remove_prefix:\n",
    "        Tax = Tax.applymap(lambda s: s[3:], na_action=\"ignore\").replace(\"\", np.nan)\n",
    "    else:\n",
    "        Tax[Tax.applymap(len, na_action=\"ignore\") == 3] = np.nan\n",
    "\n",
    "    # add missing values again\n",
    "\n",
    "    Tax = Tax.reindex(Taxonomy_Series.index)\n",
    "\n",
    "    return Tax\n",
    "\n",
    "\n",
    "\n",
    "def load_gtdb_tax(taxonomy_file, remove_prefix=False):\n",
    "\n",
    "    D = pd.read_table(taxonomy_file, index_col=0)\n",
    "\n",
    "    Tax = tax2table(D[\"classification\"], remove_prefix=remove_prefix)\n",
    "\n",
    "    return Tax"
   ]
  },
  {
   "cell_type": "code",
   "execution_count": 10,
   "id": "vocal-publicity",
   "metadata": {},
   "outputs": [],
   "source": [
    "\n",
    "# load microbiome data\n",
    "# The paths here are existing only on my computer\n",
    "\n",
    "# 1. counts/ relab \n",
    "# 2. taxonomy\n",
    "# 3. metadata\n",
    "\n",
    "Tax= load_gtdb_tax(\"../WarmMicrobiota/Metagenome/WD/genomes/taxonomy/gtdbtk.bac120.summary.tsv\",remove_prefix=True).sort_index()\n",
    "\n",
    "# create a label for each genome even if species is not defined \n",
    "\n",
    "Tax['Label']= Tax.ffill(axis=1)['species']\n",
    "Tax.loc[Tax.species.isnull(), 'Label']+=\" \"+Tax.index[Tax.species.isnull()]\n",
    "\n",
    "\n",
    "metadata= pd.read_table(\"../WarmMicrobiota/Metagenome/metadata.tsv\", index_col=0)\n",
    "D= pd.read_table(\"../WarmMicrobiota/Metagenome/WD/genomes/counts/median_coverage_genomes.tsv\",index_col=0)\n",
    "# relative abundance\n",
    "relab= (D.T/D.sum(1)).T *100\n",
    "\n"
   ]
  },
  {
   "cell_type": "code",
   "execution_count": 11,
   "id": "a09a118c",
   "metadata": {},
   "outputs": [
    {
     "data": {
      "text/plain": [
       "AnnData object with n_obs × n_vars = 32 × 147\n",
       "    obs: 'Source', 'Group'\n",
       "    var: 'Domain', 'phylum', 'class', 'order', 'family', 'genus', 'species', 'Label'"
      ]
     },
     "execution_count": 11,
     "metadata": {},
     "output_type": "execute_result"
    }
   ],
   "source": [
    "# But everithing in an anndata object that keeps the data togehter. \n",
    "\n",
    "D= anndata.AnnData(relab,obs=metadata,var = Tax)\n",
    "D"
   ]
  },
  {
   "cell_type": "code",
   "execution_count": 12,
   "id": "0193b0c2",
   "metadata": {},
   "outputs": [],
   "source": [
    "# transform data with centered log transform\n",
    "\n",
    "from statsplot import transformations\n",
    "\n",
    "clr_data= transformations.clr(D, log= np.log2)\n",
    "\n"
   ]
  },
  {
   "cell_type": "code",
   "execution_count": 13,
   "id": "347b317f",
   "metadata": {},
   "outputs": [],
   "source": [
    "# create stats table \n",
    "\n",
    "ST = stp.StatsTable(clr_data,test_variable= 'Group',grouping_variable=\"Source\", label_variable= 'Label', test='welch',  ref_group=\"RT\")"
   ]
  },
  {
   "cell_type": "code",
   "execution_count": 14,
   "id": "aggressive-trial",
   "metadata": {},
   "outputs": [
    {
     "data": {
      "text/html": [
       "<div>\n",
       "<style scoped>\n",
       "    .dataframe tbody tr th:only-of-type {\n",
       "        vertical-align: middle;\n",
       "    }\n",
       "\n",
       "    .dataframe tbody tr th {\n",
       "        vertical-align: top;\n",
       "    }\n",
       "\n",
       "    .dataframe thead tr th {\n",
       "        text-align: left;\n",
       "    }\n",
       "\n",
       "    .dataframe thead tr:last-of-type th {\n",
       "        text-align: right;\n",
       "    }\n",
       "</style>\n",
       "<table border=\"1\" class=\"dataframe\">\n",
       "  <thead>\n",
       "    <tr>\n",
       "      <th></th>\n",
       "      <th colspan=\"2\" halign=\"left\">Pvalue</th>\n",
       "      <th colspan=\"2\" halign=\"left\">Statistic</th>\n",
       "      <th colspan=\"2\" halign=\"left\">median_diff</th>\n",
       "      <th colspan=\"2\" halign=\"left\">pBH</th>\n",
       "    </tr>\n",
       "    <tr>\n",
       "      <th></th>\n",
       "      <th>Cecum</th>\n",
       "      <th>Feces</th>\n",
       "      <th>Cecum</th>\n",
       "      <th>Feces</th>\n",
       "      <th>Cecum</th>\n",
       "      <th>Feces</th>\n",
       "      <th>Cecum</th>\n",
       "      <th>Feces</th>\n",
       "    </tr>\n",
       "    <tr>\n",
       "      <th></th>\n",
       "      <th>Hot_vs_RT</th>\n",
       "      <th>Hot_vs_RT</th>\n",
       "      <th>Hot_vs_RT</th>\n",
       "      <th>Hot_vs_RT</th>\n",
       "      <th>Hot_vs_RT</th>\n",
       "      <th>Hot_vs_RT</th>\n",
       "      <th>Hot_vs_RT</th>\n",
       "      <th>Hot_vs_RT</th>\n",
       "    </tr>\n",
       "    <tr>\n",
       "      <th>user_genome</th>\n",
       "      <th></th>\n",
       "      <th></th>\n",
       "      <th></th>\n",
       "      <th></th>\n",
       "      <th></th>\n",
       "      <th></th>\n",
       "      <th></th>\n",
       "      <th></th>\n",
       "    </tr>\n",
       "  </thead>\n",
       "  <tbody>\n",
       "    <tr>\n",
       "      <th>MAG001</th>\n",
       "      <td>0.000086</td>\n",
       "      <td>9.776737e-08</td>\n",
       "      <td>-7.182472</td>\n",
       "      <td>-10.031165</td>\n",
       "      <td>3.871136</td>\n",
       "      <td>4.234078</td>\n",
       "      <td>0.001576</td>\n",
       "      <td>0.000014</td>\n",
       "    </tr>\n",
       "    <tr>\n",
       "      <th>MAG002</th>\n",
       "      <td>0.836515</td>\n",
       "      <td>5.090098e-01</td>\n",
       "      <td>-0.210301</td>\n",
       "      <td>-0.680391</td>\n",
       "      <td>-0.065014</td>\n",
       "      <td>-0.113145</td>\n",
       "      <td>0.924569</td>\n",
       "      <td>0.699294</td>\n",
       "    </tr>\n",
       "    <tr>\n",
       "      <th>MAG003</th>\n",
       "      <td>0.582933</td>\n",
       "      <td>7.263051e-01</td>\n",
       "      <td>-0.563255</td>\n",
       "      <td>-0.358060</td>\n",
       "      <td>0.018495</td>\n",
       "      <td>0.192079</td>\n",
       "      <td>0.745140</td>\n",
       "      <td>0.847356</td>\n",
       "    </tr>\n",
       "    <tr>\n",
       "      <th>MAG004</th>\n",
       "      <td>0.026453</td>\n",
       "      <td>4.278594e-02</td>\n",
       "      <td>2.575495</td>\n",
       "      <td>2.252542</td>\n",
       "      <td>-1.051217</td>\n",
       "      <td>-1.638859</td>\n",
       "      <td>0.092516</td>\n",
       "      <td>0.131032</td>\n",
       "    </tr>\n",
       "    <tr>\n",
       "      <th>MAG005</th>\n",
       "      <td>0.006127</td>\n",
       "      <td>5.384853e-02</td>\n",
       "      <td>3.267759</td>\n",
       "      <td>2.104872</td>\n",
       "      <td>-1.349585</td>\n",
       "      <td>-0.650092</td>\n",
       "      <td>0.032168</td>\n",
       "      <td>0.153959</td>\n",
       "    </tr>\n",
       "    <tr>\n",
       "      <th>...</th>\n",
       "      <td>...</td>\n",
       "      <td>...</td>\n",
       "      <td>...</td>\n",
       "      <td>...</td>\n",
       "      <td>...</td>\n",
       "      <td>...</td>\n",
       "      <td>...</td>\n",
       "      <td>...</td>\n",
       "    </tr>\n",
       "    <tr>\n",
       "      <th>MAG143</th>\n",
       "      <td>0.011926</td>\n",
       "      <td>1.485765e-02</td>\n",
       "      <td>2.972029</td>\n",
       "      <td>2.840871</td>\n",
       "      <td>-2.133191</td>\n",
       "      <td>-2.072522</td>\n",
       "      <td>0.053698</td>\n",
       "      <td>0.065756</td>\n",
       "    </tr>\n",
       "    <tr>\n",
       "      <th>MAG144</th>\n",
       "      <td>0.154094</td>\n",
       "      <td>1.801575e-01</td>\n",
       "      <td>1.595590</td>\n",
       "      <td>1.483567</td>\n",
       "      <td>-0.274401</td>\n",
       "      <td>-0.178421</td>\n",
       "      <td>0.300687</td>\n",
       "      <td>0.343093</td>\n",
       "    </tr>\n",
       "    <tr>\n",
       "      <th>MAG145</th>\n",
       "      <td>0.114007</td>\n",
       "      <td>5.550917e-02</td>\n",
       "      <td>-1.685910</td>\n",
       "      <td>-2.101933</td>\n",
       "      <td>0.352819</td>\n",
       "      <td>1.037689</td>\n",
       "      <td>0.246455</td>\n",
       "      <td>0.153959</td>\n",
       "    </tr>\n",
       "    <tr>\n",
       "      <th>MAG146</th>\n",
       "      <td>0.121707</td>\n",
       "      <td>8.657417e-02</td>\n",
       "      <td>1.671672</td>\n",
       "      <td>1.863180</td>\n",
       "      <td>-2.149775</td>\n",
       "      <td>-2.022352</td>\n",
       "      <td>0.259169</td>\n",
       "      <td>0.215702</td>\n",
       "    </tr>\n",
       "    <tr>\n",
       "      <th>MAG147</th>\n",
       "      <td>0.684818</td>\n",
       "      <td>3.889707e-01</td>\n",
       "      <td>0.414711</td>\n",
       "      <td>0.898178</td>\n",
       "      <td>-0.281860</td>\n",
       "      <td>-0.238357</td>\n",
       "      <td>0.829402</td>\n",
       "      <td>0.589887</td>\n",
       "    </tr>\n",
       "  </tbody>\n",
       "</table>\n",
       "<p>147 rows × 8 columns</p>\n",
       "</div>"
      ],
      "text/plain": [
       "               Pvalue               Statistic            median_diff  \\\n",
       "                Cecum         Feces     Cecum      Feces       Cecum   \n",
       "            Hot_vs_RT     Hot_vs_RT Hot_vs_RT  Hot_vs_RT   Hot_vs_RT   \n",
       "user_genome                                                            \n",
       "MAG001       0.000086  9.776737e-08 -7.182472 -10.031165    3.871136   \n",
       "MAG002       0.836515  5.090098e-01 -0.210301  -0.680391   -0.065014   \n",
       "MAG003       0.582933  7.263051e-01 -0.563255  -0.358060    0.018495   \n",
       "MAG004       0.026453  4.278594e-02  2.575495   2.252542   -1.051217   \n",
       "MAG005       0.006127  5.384853e-02  3.267759   2.104872   -1.349585   \n",
       "...               ...           ...       ...        ...         ...   \n",
       "MAG143       0.011926  1.485765e-02  2.972029   2.840871   -2.133191   \n",
       "MAG144       0.154094  1.801575e-01  1.595590   1.483567   -0.274401   \n",
       "MAG145       0.114007  5.550917e-02 -1.685910  -2.101933    0.352819   \n",
       "MAG146       0.121707  8.657417e-02  1.671672   1.863180   -2.149775   \n",
       "MAG147       0.684818  3.889707e-01  0.414711   0.898178   -0.281860   \n",
       "\n",
       "                            pBH            \n",
       "                Feces     Cecum     Feces  \n",
       "            Hot_vs_RT Hot_vs_RT Hot_vs_RT  \n",
       "user_genome                                \n",
       "MAG001       4.234078  0.001576  0.000014  \n",
       "MAG002      -0.113145  0.924569  0.699294  \n",
       "MAG003       0.192079  0.745140  0.847356  \n",
       "MAG004      -1.638859  0.092516  0.131032  \n",
       "MAG005      -0.650092  0.032168  0.153959  \n",
       "...               ...       ...       ...  \n",
       "MAG143      -2.072522  0.053698  0.065756  \n",
       "MAG144      -0.178421  0.300687  0.343093  \n",
       "MAG145       1.037689  0.246455  0.153959  \n",
       "MAG146      -2.022352  0.259169  0.215702  \n",
       "MAG147      -0.238357  0.829402  0.589887  \n",
       "\n",
       "[147 rows x 8 columns]"
      ]
     },
     "execution_count": 14,
     "metadata": {},
     "output_type": "execute_result"
    }
   ],
   "source": [
    "ST.stats"
   ]
  },
  {
   "cell_type": "code",
   "execution_count": 15,
   "id": "incoming-meeting",
   "metadata": {},
   "outputs": [
    {
     "data": {
      "image/png": "[encoded data removed]",
      "text/plain": [
       "<Figure size 432x288 with 1 Axes>"
      ]
     },
     "metadata": {
      "needs_background": "light"
     },
     "output_type": "display_data"
    }
   ],
   "source": [
    "\n",
    "ST.plot('MAG001')"
   ]
  },
  {
   "cell_type": "code",
   "execution_count": null,
   "id": "optical-longitude",
   "metadata": {},
   "outputs": [],
   "source": []
  },
  {
   "cell_type": "code",
   "execution_count": null,
   "id": "08703e18",
   "metadata": {},
   "outputs": [],
   "source": []
  },
  {
   "cell_type": "code",
   "execution_count": null,
   "id": "0972dec6",
   "metadata": {},
   "outputs": [],
   "source": []
  }
 ],
 "metadata": {
  "kernelspec": {
   "display_name": "Python 3",
   "language": "python",
   "name": "python3"
  },
  "language_info": {
   "codemirror_mode": {
    "name": "ipython",
    "version": 3
   },
   "file_extension": ".py",
   "mimetype": "text/x-python",
   "name": "python",
   "nbconvert_exporter": "python",
   "pygments_lexer": "ipython3",
   "version": "3.8.5"
  },
  "widgets": {
   "application/vnd.jupyter.widget-state+json": {
    "state": {},
    "version_major": 2,
    "version_minor": 0
   }
  }
 },
 "nbformat": 4,
 "nbformat_minor": 5
}
